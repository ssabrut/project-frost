{
 "cells": [
  {
   "cell_type": "code",
   "execution_count": 1,
   "metadata": {},
   "outputs": [
    {
     "name": "stdout",
     "output_type": "stream",
     "text": [
      "\n",
      "<think>\n",
      "Okay, so I need to figure out who the first person to land on the moon was. Let me start by recalling what I know. I think it was someone from NASA's Apollo missions. I remember hearing about Neil Armstrong being the first, but I'm not entirely sure. Wait, wasn't there another astronaut with him on the same mission? Maybe Buzz Aldrin? Or was he the second one? Let me think.\n",
      "\n",
      "I believe the Apollo 11 mission was the one that first landed on the moon. Neil Armstrong was the commander, right? So he would have been the first to step out of the lunar module. Then Buzz Aldrin followed him. But I should double-check the details to be certain. \n",
      "\n",
      "Wait, there's also Michael Collins, but he stayed in the command module orbiting the moon, so he didn't land. So the two who landed were Armstrong and Aldrin. The question is specifically about the first person. So Armstrong was the first to step onto the surface. \n",
      "\n",
      "I think the date was July 20, 1969. That's a date I've heard associated with the moon landing. The famous quote \"That's one small step for man, one giant leap for mankind\" was said by Armstrong when he stepped onto the moon. \n",
      "\n",
      "But let me make sure there's no confusion with other missions. For example, the Soviet Union had some lunar missions, but they were unmanned, right? The first human on the moon was definitely an American astronaut. \n",
      "\n",
      "Another point to consider: sometimes people mix up the first person in space with the first on the moon. Yuri Gagarin was the first human in space in 1961, but the moon landing was later. \n",
      "\n",
      "So putting it all together, the answer should be Neil Armstrong as part of Apollo 11 in 1969. But I want to confirm the exact details. Maybe check the order of events: Apollo 11 was the mission, Armstrong was the commander, so he stepped out first. Aldrin came out second. \n",
      "\n",
      "I think that's correct. But maybe there's a common misconception here. Let me think if there's any other candidate. No, I don't think so. The Apollo 11 mission is widely recognized as the first manned lunar landing, and Armstrong was the first to step on the surface. \n",
      "\n",
      "Therefore, the answer should be Neil Armstrong. But just to be thorough, maybe there's a different perspective. For example, some sources might mention the lunar module pilot versus the commander, but the commander is typically the first to exit. \n",
      "\n",
      "Yes, that's standard procedure. So I'm pretty confident now. The first person to land on the moon was Neil Armstrong on July 20, 1969, during the Apollo 11 mission.\n",
      "</think>\n",
      "\n",
      "The first person to land on the Moon was **Neil Armstrong**, an American astronaut. He stepped onto the lunar surface on **July 20, 1969**, as part of NASA's **Apollo 11 mission**. As the mission commander, Armstrong was the first to exit the lunar module \"Eagle\" and famously declared, *\"That's one small step for [a] man, one giant leap for mankind.\"* His crewmate, **Buzz Aldrin**, followed him onto the Moon, while **Michael Collins** remained in the command module orbiting the Moon. This historic event marked a pivotal achievement in human space exploration. \n",
      "\n",
      "**Key Details:**\n",
      "- **Mission:** Apollo 11 (July 16–24, 1969).\n",
      "- **Landing Site:** The Sea of Tranquility.\n",
      "- **Armstrong's Quote:** *\"That's one small step for [a] man, one giant leap for mankind.\"*\n",
      "\n",
      "This mission fulfilled President John F. Kennedy's 1961 goal of landing humans on the Moon and returning them safely to Earth.\n"
     ]
    }
   ],
   "source": [
    "import os\n",
    "from langchain_groq import ChatGroq\n",
    "from dotenv import load_dotenv\n",
    "load_dotenv()\n",
    "\n",
    "llm = ChatGroq(\n",
    "    temperature=0,\n",
    "    api_key=os.getenv('GROQ_API_KEY'),\n",
    "    model='qwen-qwq-32b'\n",
    ")\n",
    "\n",
    "response = llm.invoke('Who is the first person to land on moon?')\n",
    "print(response.content)"
   ]
  },
  {
   "cell_type": "code",
   "execution_count": 2,
   "metadata": {},
   "outputs": [
    {
     "name": "stderr",
     "output_type": "stream",
     "text": [
      "USER_AGENT environment variable not set, consider setting it to identify your requests.\n"
     ]
    },
    {
     "name": "stdout",
     "output_type": "stream",
     "text": [
      "Solutions Engineer Manager, Monetization Technology#LifeAtTikTok#LifeAtTikTokDiversity & InclusionTeamsAdvertising & SalesCorporate FunctionsDesignE-CommerceGlobal OperationsMarketing & CommunicationsProductTechnologyTikTok  U.S. Data SecurityHow we hireApplying to TikTokInterview tipsFAQLocationsEarly CareersBlogJobsApplyCompanyAbout TikTokNewsroomContactProgramsTikTok for GoodTikTok for DevelopersEffect HouseAdvertise on TikTokTikTok RewardsTikTok BrowseTikTok EmbedsResourcesHelp centerSafety CenterCreator PortalCommunity GuidelinesTransparencyAccessibilityLegalPrivacy PolicyTerms of ServiceEnglish日本語TechnologySolutions Engineer Manager, Monetization TechnologyLocation:SingaporeEmployment Type:RegularJob Code:A204931Apply to this jobShare this listing:ResponsibilitiesTikTok is the leading destination for short-form mobile video. Our mission is to inspire creativity and bring joy. TikTok has global offices including Los Angeles, New York, London, Paris, Berlin, Dubai, Singapore, Jakarta, Seoul and Tokyo. \n",
      "\n",
      "Why Join Us\n",
      "At TikTok, our people are humble, intelligent, compassionate and creative. We create to inspire - for you, for us, and for more than 1 billion users on our platform. We lead with curiosity and aim for the highest, never shying away from taking calculated risks and embracing ambiguity as it comes. Here, the opportunities are limitless for those who dare to pursue bold ideas that exist just beyond the boundary of possibility. Join us and make an impact happen with a career at TikTok.\n",
      "\n",
      "Team Introduction\n",
      "The Solutions Engineering team is a specialized team that is in control of the relationship between TikTok advertising clients. The team is looking for engineers with an entrepreneurial mindset and the voice of the market. The team is made up of creative problem solvers and strategic software engineers who work with clients to understand their problems and develop solutions. We work at the intersection of business and engineering to assist TikTok's marketing and advertising partners to flourish and achieve their business goals by developing technology solutions that fit their demands.\n",
      "\n",
      "About the role\n",
      "As a Solution Engineer, you will help to partner with different business verticals and enable the full potential of new features, products, and business opportunities. You will be working and supporting cross-functional teams of R&D, Customer Success, and Product Management. This role allows you to use TikTok's platforms and community to solve real-world business problems. \n",
      "\n",
      "What you will do\n",
      "- Recruit, inspire a high-performing solutions engineering team that supports the overall business for APAC;\n",
      "- Manage relationships with client-side of engineering teams from different verticals or industries and managing and driving joint engineering roadmap;\n",
      "- Cultivate close partnerships with the sales team to identify potential business opportunities and support them in achieving business goals;\n",
      "- Build and ship new products as well as end-to-end customized solutions in collaboration with Ads product engineering teams;\n",
      "- Influence the road map of product development to solve the business challenges;\n",
      "- Be a technical leader as well as a thoughtful people leader and drive business growth and also people growthQualificationsWhat you should have:\n",
      "- Bachelor's Degree, major in Computer Science or related fields;\n",
      "- At least 10 years of working experience in programming/coding, technical solution backend design, and delivery (to clients/advertisers), and 5 years of hands-on technical management experience;\n",
      "- Familiar with one or more general-purpose programming languages including but not limited to: Python, Go, Java, C/C++;\n",
      "- Ability to collaborate with large cross-functional stakeholders internally and externally;\n",
      "- Experience in translating complex technical concepts into language for different audiences including engineers, business leaders, or client-side decision-makers;\n",
      "- Experience in advertising technology or other similar fields working with large volume data analytics.\n",
      "\n",
      "TikTok is committed to creating an inclusive space where employees are valued for their skills, experiences, and unique perspectives. Our platform connects people from across the globe and so does our workplace. At TikTok, our mission is to inspire creativity and bring joy. To achieve that goal, we are committed to celebrating our diverse voices and to creating an environment that reflects the many communities we reach. We are passionate about this and hope you are too.Apply to this jobCompanyAbout TikTokNewsroomContactProgramsTikTok for GoodTikTok for DevelopersEffect HouseAdvertise on TikTokTikTok RewardsTikTok BrowseTikTok EmbedsResourcesHelp centerSafety CenterCreator PortalCommunity GuidelinesTransparencyAccessibilityLegalPrivacy PolicyTerms of ServiceEnglish日本語@2025 TikTok\n"
     ]
    }
   ],
   "source": [
    "from langchain_community.document_loaders import WebBaseLoader\n",
    "\n",
    "loader = WebBaseLoader('https://lifeattiktok.com/search/7258117514503506231')\n",
    "page_data = loader.load().pop().page_content\n",
    "print(page_data)"
   ]
  },
  {
   "cell_type": "code",
   "execution_count": 3,
   "metadata": {},
   "outputs": [
    {
     "name": "stdout",
     "output_type": "stream",
     "text": [
      "{\n",
      "  \"role\": \"Solutions Engineer Manager, Monetization Technology\",\n",
      "  \"experience\": \"10+ years in programming/coding and 5+ years in technical management\",\n",
      "  \"skills\": [\n",
      "    \"Programming languages (Python, Go, Java, C/C++)\",\n",
      "    \"Cross-functional collaboration\",\n",
      "    \"Technical communication\",\n",
      "    \"Advertising technology experience\",\n",
      "    \"Data analytics\"\n",
      "  ],\n",
      "  \"description\": \"Manages the Solutions Engineering team to support APAC business by collaborating with cross-functional teams (R&D, Customer Success, Product Management). Responsibilities include leading engineering relationships with clients, driving joint roadmaps, identifying business opportunities, developing customized solutions, influencing product development, and leading both technical and people growth. The team focuses on enabling TikTok's advertising partners through technical solutions to achieve their goals.\"\n",
      "}\n"
     ]
    }
   ],
   "source": [
    "import re\n",
    "from langchain_core.prompts import PromptTemplate\n",
    "from langchain_core.runnables import RunnableLambda\n",
    "\n",
    "prompt_extract = PromptTemplate.from_template(\n",
    "    \"\"\"\n",
    "    ### SCRAPED TEXT FROM WEBSITE:\n",
    "    {page_data}\n",
    "    \n",
    "    ### INSTRUCTION:\n",
    "    The scraped text is from the career's page of a website.\n",
    "    Your job is to extract the job postings and return them in JSON format containing the following keys: `role`, `experience`, `skills` and `description`.\n",
    "    Only return the valid JSON.\n",
    "    \n",
    "    ### VALID JSON (NO PREAMBLE):\n",
    "    \"\"\"\n",
    ")\n",
    "\n",
    "def remove_thinking(text):\n",
    "    \"\"\"Remove content within <think> tags from the text.\"\"\"\n",
    "    return re.sub(r'<think>.*?</think>', '', text, flags=re.DOTALL).strip()\n",
    "\n",
    "# Create a chain that processes the output to remove thinking\n",
    "chain_extract = prompt_extract | llm | RunnableLambda(lambda x: remove_thinking(x.content))\n",
    "\n",
    "result = chain_extract.invoke(input={'page_data': page_data})\n",
    "print(result)"
   ]
  },
  {
   "cell_type": "code",
   "execution_count": 4,
   "metadata": {},
   "outputs": [
    {
     "name": "stdout",
     "output_type": "stream",
     "text": [
      "{'role': 'Solutions Engineer Manager, Monetization Technology', 'experience': '10+ years in programming/coding and 5+ years in technical management', 'skills': ['Programming languages (Python, Go, Java, C/C++)', 'Cross-functional collaboration', 'Technical communication', 'Advertising technology experience', 'Data analytics'], 'description': \"Manages the Solutions Engineering team to support APAC business by collaborating with cross-functional teams (R&D, Customer Success, Product Management). Responsibilities include leading engineering relationships with clients, driving joint roadmaps, identifying business opportunities, developing customized solutions, influencing product development, and leading both technical and people growth. The team focuses on enabling TikTok's advertising partners through technical solutions to achieve their goals.\"}\n"
     ]
    }
   ],
   "source": [
    "from langchain_core.output_parsers import JsonOutputParser\n",
    "\n",
    "json_parser = JsonOutputParser()\n",
    "json_result = json_parser.parse(result)\n",
    "print(json_result)"
   ]
  },
  {
   "cell_type": "code",
   "execution_count": 5,
   "metadata": {},
   "outputs": [
    {
     "data": {
      "application/vnd.microsoft.datawrangler.viewer.v0+json": {
       "columns": [
        {
         "name": "index",
         "rawType": "int64",
         "type": "integer"
        },
        {
         "name": "Techstack",
         "rawType": "object",
         "type": "string"
        },
        {
         "name": "Links",
         "rawType": "object",
         "type": "string"
        }
       ],
       "conversionMethod": "pd.DataFrame",
       "ref": "3f2c4be6-701c-4c3e-a851-eef0148b2da4",
       "rows": [
        [
         "0",
         "React, Node.js, MongoDB",
         "https://example.com/react-portfolio"
        ],
        [
         "1",
         "Angular,.NET, SQL Server",
         "https://example.com/angular-portfolio"
        ],
        [
         "2",
         "Vue.js, Ruby on Rails, PostgreSQL",
         "https://example.com/vue-portfolio"
        ],
        [
         "3",
         "Python, Django, MySQL",
         "https://example.com/python-portfolio"
        ],
        [
         "4",
         "Java, Spring Boot, Oracle",
         "https://example.com/java-portfolio"
        ]
       ],
       "shape": {
        "columns": 2,
        "rows": 5
       }
      },
      "text/html": [
       "<div>\n",
       "<style scoped>\n",
       "    .dataframe tbody tr th:only-of-type {\n",
       "        vertical-align: middle;\n",
       "    }\n",
       "\n",
       "    .dataframe tbody tr th {\n",
       "        vertical-align: top;\n",
       "    }\n",
       "\n",
       "    .dataframe thead th {\n",
       "        text-align: right;\n",
       "    }\n",
       "</style>\n",
       "<table border=\"1\" class=\"dataframe\">\n",
       "  <thead>\n",
       "    <tr style=\"text-align: right;\">\n",
       "      <th></th>\n",
       "      <th>Techstack</th>\n",
       "      <th>Links</th>\n",
       "    </tr>\n",
       "  </thead>\n",
       "  <tbody>\n",
       "    <tr>\n",
       "      <th>0</th>\n",
       "      <td>React, Node.js, MongoDB</td>\n",
       "      <td>https://example.com/react-portfolio</td>\n",
       "    </tr>\n",
       "    <tr>\n",
       "      <th>1</th>\n",
       "      <td>Angular,.NET, SQL Server</td>\n",
       "      <td>https://example.com/angular-portfolio</td>\n",
       "    </tr>\n",
       "    <tr>\n",
       "      <th>2</th>\n",
       "      <td>Vue.js, Ruby on Rails, PostgreSQL</td>\n",
       "      <td>https://example.com/vue-portfolio</td>\n",
       "    </tr>\n",
       "    <tr>\n",
       "      <th>3</th>\n",
       "      <td>Python, Django, MySQL</td>\n",
       "      <td>https://example.com/python-portfolio</td>\n",
       "    </tr>\n",
       "    <tr>\n",
       "      <th>4</th>\n",
       "      <td>Java, Spring Boot, Oracle</td>\n",
       "      <td>https://example.com/java-portfolio</td>\n",
       "    </tr>\n",
       "  </tbody>\n",
       "</table>\n",
       "</div>"
      ],
      "text/plain": [
       "                           Techstack                                  Links\n",
       "0            React, Node.js, MongoDB    https://example.com/react-portfolio\n",
       "1           Angular,.NET, SQL Server  https://example.com/angular-portfolio\n",
       "2  Vue.js, Ruby on Rails, PostgreSQL      https://example.com/vue-portfolio\n",
       "3              Python, Django, MySQL   https://example.com/python-portfolio\n",
       "4          Java, Spring Boot, Oracle     https://example.com/java-portfolio"
      ]
     },
     "execution_count": 5,
     "metadata": {},
     "output_type": "execute_result"
    }
   ],
   "source": [
    "import polars\n",
    "\n",
    "df = polars.read_csv('../data/my_portfolio.csv')\n",
    "df = df.to_pandas()\n",
    "df.head()"
   ]
  },
  {
   "cell_type": "code",
   "execution_count": 6,
   "metadata": {},
   "outputs": [],
   "source": [
    "import chromadb\n",
    "from uuid import uuid4\n",
    "\n",
    "client = chromadb.PersistentClient('vectorstore')\n",
    "collection = client.get_or_create_collection(name='portfolio')\n",
    "\n",
    "if not collection.count():\n",
    "    for _, row in df.iterrows():\n",
    "        collection.add(\n",
    "            documents=row['Techstack'],\n",
    "            metadatas={'links': row['Links']},\n",
    "            ids=[str(uuid4())]\n",
    "        )"
   ]
  },
  {
   "cell_type": "code",
   "execution_count": 7,
   "metadata": {},
   "outputs": [
    {
     "data": {
      "text/plain": [
       "[[{'links': 'https://example.com/ml-python-portfolio'},\n",
       "  {'links': 'https://example.com/python-portfolio'}],\n",
       " [{'links': 'https://example.com/xamarin-portfolio'},\n",
       "  {'links': 'https://example.com/typescript-frontend-portfolio'}],\n",
       " [{'links': 'https://example.com/ml-python-portfolio'},\n",
       "  {'links': 'https://example.com/typescript-frontend-portfolio'}],\n",
       " [{'links': 'https://example.com/android-tv-portfolio'},\n",
       "  {'links': 'https://example.com/android-portfolio'}],\n",
       " [{'links': 'https://example.com/ml-python-portfolio'},\n",
       "  {'links': 'https://example.com/magento-portfolio'}]]"
      ]
     },
     "execution_count": 7,
     "metadata": {},
     "output_type": "execute_result"
    }
   ],
   "source": [
    "links = collection.query(query_texts=json_result['skills'], n_results=2).get('metadatas')\n",
    "links"
   ]
  },
  {
   "cell_type": "code",
   "execution_count": 8,
   "metadata": {},
   "outputs": [
    {
     "name": "stdout",
     "output_type": "stream",
     "text": [
      "Subject: Strengthen APAC Monetization Strategy with AtliQ’s Technical Leadership  \n",
      "\n",
      "Dear [Recipient's Name],  \n",
      "\n",
      "As you drive TikTok’s APAC monetization goals, AtliQ’s team of senior engineers and data strategists can deliver the technical and collaborative expertise your team needs. Here’s how we align with your priorities:  \n",
      "\n",
      "**Core Capabilities:**  \n",
      "- **Programming & Data Mastery:** Expertise in Python, Java, and C/C++ for high-performance ad tech systems, paired with advanced data analytics to drive actionable insights.  \n",
      "- **Ad Tech Integration:** Proven track record in building scalable advertising solutions, optimizing campaign performance, and aligning technical execution with business outcomes.  \n",
      "\n",
      "**Cross-Functional Synergy:**  \n",
      "- Seamless collaboration with R&D, product, and client teams to co-design joint roadmaps, identify monetization opportunities, and deliver client-centric solutions.  \n",
      "- Influencing product development through data-driven strategies and technical innovation.  \n",
      "\n",
      "**Portfolio Highlights:**  \n",
      "- [Machine Learning & Python Solutions](https://example.com/ml-python-portfolio) (custom ad tech and analytics frameworks)  \n",
      "- [Advanced Python Engineering](https://example.com/python-portfolio) (high-scale system integrations)  \n",
      "\n",
      "Let’s connect to discuss how AtliQ can elevate your team’s technical execution and client partnerships. I’m available [specific times/days]—what works for your schedule?  \n",
      "\n",
      "Best regards,  \n",
      "Frost [Last Name]  \n",
      "Business Development Executive | AtliQ  \n",
      "[Your Email] | [Phone] | [LinkedIn Profile]  \n",
      "\n",
      "---  \n",
      "*P.S. Explore our [ad tech case studies](https://example.com/ml-python-portfolio) to see how we’ve scaled similar initiatives for global clients.*  \n",
      "\n",
      "---  \n",
      "This email emphasizes technical alignment with the role’s requirements, highlights relevant portfolio links, and positions AtliQ as a strategic partner for both engineering and business growth.\n"
     ]
    }
   ],
   "source": [
    "prompt_email = PromptTemplate.from_template(\n",
    "    \"\"\"\n",
    "    ### JOB DESCRIPTION:\n",
    "    {job_description}\n",
    "\n",
    "    ### INSTRUCTION:\n",
    "    You are Frost, a business development executive at AtliQ. AtliQ is an AI & Software Consulting company dedicated to facilitating the seamless integration of business processes through automated tools. \n",
    "    Over our experience, we have empowered numerous enterprises with tailored solutions, fostering scalability, process optimization, cost reduction, and heightened overall efficiency. \n",
    "    Your job is to write a cold email to the client regarding the job mentioned above describing the capability of AtliQ in fulfilling their needs.\n",
    "    Also add the most relevant ones from the following links to showcase AtliQ portfolio: {link_list}\n",
    "    Remember you are Frost, BDE at AtliQ. \n",
    "    Do not provide a preamble.\n",
    "    \n",
    "    ### EMAIL (NO PREAMBLE):\n",
    "    \"\"\"\n",
    ")\n",
    "\n",
    "chain_email = prompt_email | llm | RunnableLambda(lambda x: remove_thinking(x.content))\n",
    "email_response = chain_email.invoke({'job_description': str(json_result), 'link_list': links})\n",
    "print(email_response)"
   ]
  }
 ],
 "metadata": {
  "kernelspec": {
   "display_name": "venv",
   "language": "python",
   "name": "python3"
  },
  "language_info": {
   "codemirror_mode": {
    "name": "ipython",
    "version": 3
   },
   "file_extension": ".py",
   "mimetype": "text/x-python",
   "name": "python",
   "nbconvert_exporter": "python",
   "pygments_lexer": "ipython3",
   "version": "3.12.2"
  }
 },
 "nbformat": 4,
 "nbformat_minor": 2
}
